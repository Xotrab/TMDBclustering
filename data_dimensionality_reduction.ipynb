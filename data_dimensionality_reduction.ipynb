{
 "cells": [
  {
   "attachments": {},
   "cell_type": "markdown",
   "metadata": {},
   "source": [
    "# Posters"
   ]
  },
  {
   "attachments": {},
   "cell_type": "markdown",
   "metadata": {},
   "source": [
    "Draw a histogram of height distribution and find the minium and maximum pixel values"
   ]
  },
  {
   "cell_type": "code",
   "execution_count": 1,
   "metadata": {},
   "outputs": [],
   "source": [
    "import os\n",
    "import cv2\n",
    "import matplotlib.pyplot as plt\n",
    "from config import images_directory\n",
    "import random\n",
    "import numpy as np\n",
    "from keras.utils import Sequence\n",
    "\n",
    "def draw_height_histogram():\n",
    "    image_heights = []\n",
    "    min_pixel_value = np.inf\n",
    "    max_pixel_value = -np.inf\n",
    "\n",
    "    for filename in os.listdir(images_directory):\n",
    "        image_path = os.path.join(images_directory, filename)\n",
    "        image = cv2.imread(image_path)\n",
    "\n",
    "        height = image.shape[0]\n",
    "\n",
    "        image_heights.append(height)\n",
    "\n",
    "        current_min = np.min(image)\n",
    "        current_max = np.max(image)\n",
    "        \n",
    "        if current_min < min_pixel_value:\n",
    "            min_pixel_value = current_min\n",
    "        if current_max > max_pixel_value:\n",
    "            max_pixel_value = current_max\n",
    "\n",
    "    num_unique_heights = len(set(image_heights))\n",
    "\n",
    "    plt.hist(image_heights, bins=num_unique_heights)\n",
    "    plt.xlabel('Image Height')\n",
    "    plt.ylabel('Frequency (log scale)')\n",
    "    plt.yscale('log') \n",
    "    plt.title('Distribution of Image Heights')\n",
    "    plt.show()\n",
    "\n",
    "    print(f'min pixel values:{min_pixel_value}')\n",
    "    print(f'max pixel values:{max_pixel_value}')"
   ]
  },
  {
   "cell_type": "code",
   "execution_count": 6,
   "metadata": {},
   "outputs": [
    {
     "data": {
      "image/png": "[encoded data removed]",
      "text/plain": [
       "<Figure size 432x288 with 1 Axes>"
      ]
     },
     "metadata": {
      "needs_background": "light"
     },
     "output_type": "display_data"
    },
    {
     "name": "stdout",
     "output_type": "stream",
     "text": [
      "min pixel values:0\n",
      "max pixel values:255\n"
     ]
    }
   ],
   "source": [
    "draw_height_histogram()"
   ]
  },
  {
   "attachments": {},
   "cell_type": "markdown",
   "metadata": {},
   "source": [
    "ImageDataLoader class used to load batches of images from the specified directory:\n",
    "- images are split to training and test sets using the given ratio,\n",
    "- each poster gets normalised,\n",
    "- each image has it's height adjusted, so all posters have the same sizes before inputting them to the VAE."
   ]
  },
  {
   "cell_type": "code",
   "execution_count": 2,
   "metadata": {},
   "outputs": [],
   "source": [
    "class ImageDataLoader(Sequence):\n",
    "    def __init__(self, directory, batch_size, desired_image_shape, train_split=0.8, shuffle=True):\n",
    "        self.directory = directory\n",
    "        self.batch_size = batch_size\n",
    "        self.desired_image_shape = desired_image_shape\n",
    "        self.train_split = train_split\n",
    "        self.shuffle = shuffle\n",
    "\n",
    "        # Get the list of image file names\n",
    "        self.image_files = os.listdir(self.directory)\n",
    "\n",
    "        # Shuffle the image files if required\n",
    "        if self.shuffle:\n",
    "            random.shuffle(self.image_files)\n",
    "\n",
    "        # Split the image files into training and validation sets\n",
    "        split_index = int(len(self.image_files) * self.train_split)\n",
    "        self.train_files = self.image_files[:split_index]\n",
    "        self.val_files = self.image_files[split_index:]\n",
    "    \n",
    "    def get_train_test_data(self):\n",
    "        return self.train_files, self.val_files\n",
    "\n",
    "    def __len__(self):\n",
    "        # Calculate the number of batches per epoch\n",
    "        return int(np.ceil(len(self.train_files) / self.batch_size))\n",
    "\n",
    "    def __getitem__(self, index):\n",
    "        # Get the batch of image file names\n",
    "        batch_files = self.train_files[index * self.batch_size:(index + 1) * self.batch_size]\n",
    "\n",
    "        # Load and preprocess the batch of images\n",
    "        batch_images = []\n",
    "        for file in batch_files:\n",
    "            image_path = os.path.join(self.directory, file)\n",
    "            image = cv2.imread(image_path)\n",
    "\n",
    "            # Preprocess the image\n",
    "\n",
    "            image = image.astype('float32') / 255.0  # Normalize pixel values to [0, 1]\n",
    "\n",
    "            resized_image = cv2.resize(image, (self.desired_image_shape[1], self.desired_image_shape[0])) # Resize the image to the desired width and height\n",
    "\n",
    "            batch_images.append(resized_image)\n",
    "\n",
    "        # Convert the batch of images to NumPy array\n",
    "        batch_images = np.array(batch_images)\n",
    "\n",
    "        return batch_images\n",
    "\n",
    "    def on_epoch_end(self):\n",
    "        # Shuffle the training image files at the end of each epoch\n",
    "        if self.shuffle:\n",
    "            random.shuffle(self.train_files)"
   ]
  },
  {
   "attachments": {},
   "cell_type": "markdown",
   "metadata": {},
   "source": [
    "Instantiate the ImageDataLoader class with a desired image shape and build the Variational Autoencoder"
   ]
  },
  {
   "cell_type": "code",
   "execution_count": 3,
   "metadata": {},
   "outputs": [
    {
     "name": "stdout",
     "output_type": "stream",
     "text": [
      "Model: \"variational_autoencoder\"\n",
      "_________________________________________________________________\n",
      " Layer (type)                Output Shape              Param #   \n",
      "=================================================================\n",
      " encoder (Functional)        [(None, 32),              3634336   \n",
      "                              (None, 32),                        \n",
      "                              (None, 32)]                        \n",
      "                                                                 \n",
      " decoder (Functional)        (None, 256, 216, 3)       3890243   \n",
      "                                                                 \n",
      "=================================================================\n",
      "Total params: 7,524,579\n",
      "Trainable params: 7,524,579\n",
      "Non-trainable params: 0\n",
      "_________________________________________________________________\n",
      "Model: \"encoder\"\n",
      "__________________________________________________________________________________________________\n",
      " Layer (type)                   Output Shape         Param #     Connected to                     \n",
      "==================================================================================================\n",
      " input (InputLayer)             [(None, 256, 216, 3  0           []                               \n",
      "                                )]                                                                \n",
      "                                                                                                  \n",
      " conv2d (Conv2D)                (None, 128, 108, 32  896         ['input[0][0]']                  \n",
      "                                )                                                                 \n",
      "                                                                                                  \n",
      " conv2d_1 (Conv2D)              (None, 64, 54, 64)   18496       ['conv2d[0][0]']                 \n",
      "                                                                                                  \n",
      " conv2d_2 (Conv2D)              (None, 32, 27, 128)  73856       ['conv2d_1[0][0]']               \n",
      "                                                                                                  \n",
      " flatten (Flatten)              (None, 110592)       0           ['conv2d_2[0][0]']               \n",
      "                                                                                                  \n",
      " dense (Dense)                  (None, 32)           3538976     ['flatten[0][0]']                \n",
      "                                                                                                  \n",
      " z_mean (Dense)                 (None, 32)           1056        ['dense[0][0]']                  \n",
      "                                                                                                  \n",
      " z_log_var (Dense)              (None, 32)           1056        ['dense[0][0]']                  \n",
      "                                                                                                  \n",
      " lambda (Lambda)                (None, 32)           0           ['z_mean[0][0]',                 \n",
      "                                                                  'z_log_var[0][0]']              \n",
      "                                                                                                  \n",
      "==================================================================================================\n",
      "Total params: 3,634,336\n",
      "Trainable params: 3,634,336\n",
      "Non-trainable params: 0\n",
      "__________________________________________________________________________________________________\n",
      "Model: \"decoder\"\n",
      "_________________________________________________________________\n",
      " Layer (type)                Output Shape              Param #   \n",
      "=================================================================\n",
      " decoder_input (InputLayer)  [(None, 32)]              0         \n",
      "                                                                 \n",
      " dense_1 (Dense)             (None, 110592)            3649536   \n",
      "                                                                 \n",
      " reshape (Reshape)           (None, 32, 27, 128)       0         \n",
      "                                                                 \n",
      " conv2d_transpose (Conv2DTra  (None, 64, 54, 128)      147584    \n",
      " nspose)                                                         \n",
      "                                                                 \n",
      " conv2d_transpose_1 (Conv2DT  (None, 128, 108, 64)     73792     \n",
      " ranspose)                                                       \n",
      "                                                                 \n",
      " conv2d_transpose_2 (Conv2DT  (None, 256, 216, 32)     18464     \n",
      " ranspose)                                                       \n",
      "                                                                 \n",
      " conv2d_transpose_3 (Conv2DT  (None, 256, 216, 3)      867       \n",
      " ranspose)                                                       \n",
      "                                                                 \n",
      "=================================================================\n",
      "Total params: 3,890,243\n",
      "Trainable params: 3,890,243\n",
      "Non-trainable params: 0\n",
      "_________________________________________________________________\n"
     ]
    }
   ],
   "source": [
    "from variational_autoencoder import VariationalAutoencoder\n",
    "\n",
    "desired_image_shape = (256, 216)\n",
    "batch_size = 16\n",
    "image_data_loader = ImageDataLoader(directory=images_directory, batch_size=batch_size, desired_image_shape=desired_image_shape, train_split=0.15)\n",
    "\n",
    "vae = VariationalAutoencoder(input_height=desired_image_shape[0], input_width=desired_image_shape[1], latent_dim=32)\n",
    "\n",
    "input_shape = (None,) + desired_image_shape + (3,)\n",
    "vae.build(input_shape)\n",
    "vae.compile_model()\n",
    "\n",
    "vae.summary()\n",
    "vae.encoder.summary()\n",
    "vae.decoder.summary()"
   ]
  },
  {
   "attachments": {},
   "cell_type": "markdown",
   "metadata": {},
   "source": [
    "Train the VAE model using the ImageDataLoader class"
   ]
  },
  {
   "cell_type": "code",
   "execution_count": null,
   "metadata": {},
   "outputs": [],
   "source": [
    "vae.train(data_loader=image_data_loader, epochs=2)"
   ]
  }
 ],
 "metadata": {
  "kernelspec": {
   "display_name": "Python 3",
   "language": "python",
   "name": "python3"
  },
  "language_info": {
   "codemirror_mode": {
    "name": "ipython",
    "version": 3
   },
   "file_extension": ".py",
   "mimetype": "text/x-python",
   "name": "python",
   "nbconvert_exporter": "python",
   "pygments_lexer": "ipython3",
   "version": "3.9.5"
  },
  "orig_nbformat": 4
 },
 "nbformat": 4,
 "nbformat_minor": 2
}
