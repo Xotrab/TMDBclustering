{
 "cells": [
  {
   "attachments": {},
   "cell_type": "markdown",
   "metadata": {},
   "source": [
    "# Fetch and preprocess data"
   ]
  },
  {
   "attachments": {},
   "cell_type": "markdown",
   "metadata": {},
   "source": [
    "Fetch data from the database"
   ]
  },
  {
   "cell_type": "code",
   "execution_count": 1,
   "metadata": {},
   "outputs": [
    {
     "name": "stdout",
     "output_type": "stream",
     "text": [
      "movies count: 3025\n"
     ]
    }
   ],
   "source": [
    "from database_facade import db_facade\n",
    "\n",
    "movies = db_facade.select_movies()\n",
    "print(f'movies count: {len(movies)}')"
   ]
  },
  {
   "attachments": {},
   "cell_type": "markdown",
   "metadata": {},
   "source": [
    "Preprocess movie reviews helpers"
   ]
  },
  {
   "cell_type": "code",
   "execution_count": 2,
   "metadata": {},
   "outputs": [],
   "source": [
    "import nltk\n",
    "from nltk.corpus import stopwords\n",
    "from nltk.tokenize import TweetTokenizer, word_tokenize\n",
    "from nltk.stem import WordNetLemmatizer\n",
    "from bs4 import BeautifulSoup\n",
    "import string\n",
    "import re\n",
    "import emoji"
   ]
  },
  {
   "cell_type": "code",
   "execution_count": 3,
   "metadata": {},
   "outputs": [
    {
     "name": "stderr",
     "output_type": "stream",
     "text": [
      "[nltk_data] Downloading package stopwords to\n",
      "[nltk_data]     C:\\Users\\Xotra\\AppData\\Roaming\\nltk_data...\n",
      "[nltk_data]   Package stopwords is already up-to-date!\n",
      "[nltk_data] Downloading package punkt to\n",
      "[nltk_data]     C:\\Users\\Xotra\\AppData\\Roaming\\nltk_data...\n",
      "[nltk_data]   Package punkt is already up-to-date!\n",
      "[nltk_data] Downloading package wordnet to\n",
      "[nltk_data]     C:\\Users\\Xotra\\AppData\\Roaming\\nltk_data...\n",
      "[nltk_data]   Package wordnet is already up-to-date!\n"
     ]
    },
    {
     "data": {
      "text/plain": [
       "True"
      ]
     },
     "execution_count": 3,
     "metadata": {},
     "output_type": "execute_result"
    }
   ],
   "source": [
    "nltk.download('stopwords')\n",
    "nltk.download('punkt')\n",
    "nltk.download('wordnet')"
   ]
  },
  {
   "cell_type": "code",
   "execution_count": 4,
   "metadata": {},
   "outputs": [],
   "source": [
    "def convert_emoticons(text: str):\n",
    "    emoticon_mapping = {\n",
    "        \":)\": \"smile\",\n",
    "        \":-)\": \"smile\",\n",
    "        \":(\": \"sad\",\n",
    "        \":-(\": \"sad\",\n",
    "        \":D\": \"laugh\",\n",
    "        \":-D\": \"laugh\"\n",
    "    }\n",
    "    \n",
    "    words = text.split()\n",
    "    converted_words = [emoticon_mapping.get(word, word) for word in words]\n",
    "    converted_text = ' '.join(converted_words)\n",
    "    \n",
    "    return converted_text\n",
    "\n",
    "def preprocess_text(text, return_tokens=False):\n",
    "\n",
    "    # Remove HTML tags\n",
    "    soup = BeautifulSoup(text, 'html.parser')\n",
    "    text = soup.get_text()\n",
    "\n",
    "    # Remove urls\n",
    "    url_pattern = re.compile(r'https?://\\S+|www\\.\\S+')\n",
    "    text = url_pattern.sub('', text)\n",
    "\n",
    "    # Convert emoticons to text\n",
    "    # text = convert_emoticons(text)\n",
    "\n",
    "    # Replace emojis with names\n",
    "    # text = emoji.demojize(text)\n",
    "\n",
    "    # For now remove emojis completely - if the model works well might convert them to text as above\n",
    "    text = emoji.replace_emoji(text, replace='')\n",
    "\n",
    "    # Tokenization\n",
    "    tokenizer = TweetTokenizer()\n",
    "    tokens = tokenizer.tokenize(text)\n",
    "    \n",
    "    # Text normalization\n",
    "    tokens = [token.lower() for token in tokens]\n",
    "    \n",
    "    # Removing punctuation and elipsis\n",
    "    tokens = [token for token in tokens if token not in string.punctuation and token != '...']\n",
    "    \n",
    "    # Removing stopwords\n",
    "    stop_words = set(stopwords.words('english'))\n",
    "    tokens = [token for token in tokens if token not in stop_words]\n",
    "\n",
    "    # Lemmatize tokens\n",
    "    lemmatizer = WordNetLemmatizer()\n",
    "    tokens = [lemmatizer.lemmatize(token) for token in tokens]\n",
    "    \n",
    "    # Join tokens back into a single string\n",
    "    preprocessed_text = ' '.join(tokens)\n",
    "    \n",
    "    return tokens if return_tokens else preprocessed_text"
   ]
  },
  {
   "attachments": {},
   "cell_type": "markdown",
   "metadata": {},
   "source": [
    "Split the data into training and test sets"
   ]
  },
  {
   "cell_type": "code",
   "execution_count": 5,
   "metadata": {},
   "outputs": [
    {
     "name": "stdout",
     "output_type": "stream",
     "text": [
      "Train movies count: 2117\n",
      "Test movies count: 908\n"
     ]
    }
   ],
   "source": [
    "train_test_split_ratio = 0.7\n",
    "\n",
    "split_index = int(len(movies) * train_test_split_ratio)\n",
    "train_movies = movies[:split_index]\n",
    "test_movies = movies[split_index:]\n",
    "\n",
    "print(f'Train movies count: {len(train_movies)}')\n",
    "print(f'Test movies count: {len(test_movies)}')"
   ]
  },
  {
   "attachments": {},
   "cell_type": "markdown",
   "metadata": {},
   "source": [
    "# Dataset and DataLoaders"
   ]
  },
  {
   "cell_type": "markdown",
   "metadata": {},
   "source": [
    "TMDBDataset class used to load movie data:\n",
    "- movies should be split to training and test sets before passing them to the class (either pass training or test)\n",
    "- each poster gets normalised,\n",
    "- each image has it's height adjusted, so all posters have the same sizes before inputting them to the VAE.\n",
    "- each movie sample gets all it's reviews preprocessed and a list of preprocessed content is returned"
   ]
  },
  {
   "cell_type": "code",
   "execution_count": 15,
   "metadata": {},
   "outputs": [],
   "source": [
    "from torch.utils.data import Dataset, DataLoader\n",
    "from typing import List\n",
    "from models.movie import Movie\n",
    "import os\n",
    "import cv2\n",
    "\n",
    "class TMDBDataset(Dataset):\n",
    "    def __init__(self, movies: List[Movie], directory, desired_image_shape, is_train):\n",
    "        self.movies = movies\n",
    "        self.directory = directory\n",
    "        self.desired_image_shape = desired_image_shape\n",
    "        self.is_train = is_train\n",
    "\n",
    "    def __len__(self):\n",
    "        # Calculate the number of batches per epoch\n",
    "        return len(self.movies)\n",
    "\n",
    "    def __getitem__(self, index: int):\n",
    "        movie = self.movies[index]\n",
    "\n",
    "        # ---- POSTERS ----\n",
    "        file_path = movie.poster_path\n",
    "\n",
    "        # Remove the '/' from the file path - the os lib uses '\\' instead\n",
    "        file_path = file_path[1:]\n",
    "\n",
    "        # Load and preprocess the image\n",
    "        image_path = os.path.join(self.directory, file_path)\n",
    "        image = cv2.imread(image_path)\n",
    "        image = cv2.cvtColor(image, cv2.COLOR_BGR2RGB) # Change image channels to RGB as cv2 reads BGR by default\n",
    "        image = image.astype('float32') / 255.0  # Normalize pixel values to [0, 1]\n",
    "        resized_image = cv2.resize(image, (self.desired_image_shape[1], self.desired_image_shape[0])) # Resize the image to the desired width and height\n",
    "        resized_image = resized_image.swapaxes(1, 2).swapaxes(0, 1)\n",
    "\n",
    "        if self.is_train:\n",
    "            return resized_image\n",
    "        else:\n",
    "            return resized_image, [preprocess_text(review.content) for review in movie.reviews]\n",
    "        # return resized_image if self.is_train else resized_image, [preprocess_text(review.content) for review in movie.reviews]\n"
   ]
  },
  {
   "attachments": {},
   "cell_type": "markdown",
   "metadata": {},
   "source": [
    "# Posters"
   ]
  },
  {
   "attachments": {},
   "cell_type": "markdown",
   "metadata": {},
   "source": [
    "Draw a histogram of height distribution and find the minium and maximum pixel values"
   ]
  },
  {
   "cell_type": "code",
   "execution_count": 7,
   "metadata": {},
   "outputs": [],
   "source": [
    "import matplotlib.pyplot as plt\n",
    "from config import images_directory\n",
    "import numpy as np\n",
    "\n",
    "def draw_height_histogram():\n",
    "    image_heights = []\n",
    "    min_pixel_value = np.inf\n",
    "    max_pixel_value = -np.inf\n",
    "\n",
    "    for filename in os.listdir(images_directory):\n",
    "        image_path = os.path.join(images_directory, filename)\n",
    "        image = cv2.imread(image_path)\n",
    "\n",
    "        height = image.shape[0]\n",
    "\n",
    "        image_heights.append(height)\n",
    "\n",
    "        current_min = np.min(image)\n",
    "        current_max = np.max(image)\n",
    "        \n",
    "        if current_min < min_pixel_value:\n",
    "            min_pixel_value = current_min\n",
    "        if current_max > max_pixel_value:\n",
    "            max_pixel_value = current_max\n",
    "\n",
    "    num_unique_heights = len(set(image_heights))\n",
    "\n",
    "    plt.hist(image_heights, bins=num_unique_heights)\n",
    "    plt.xlabel('Image Height')\n",
    "    plt.ylabel('Frequency (log scale)')\n",
    "    plt.yscale('log') \n",
    "    plt.title('Distribution of Image Heights')\n",
    "    plt.show()\n",
    "\n",
    "    print(f'min pixel values:{min_pixel_value}')\n",
    "    print(f'max pixel values:{max_pixel_value}')"
   ]
  },
  {
   "cell_type": "code",
   "execution_count": 2,
   "metadata": {},
   "outputs": [],
   "source": [
    "# draw_height_histogram()"
   ]
  },
  {
   "attachments": {},
   "cell_type": "markdown",
   "metadata": {},
   "source": [
    "Instantiate the variational autoencoder and the train TMDBDataset class used for the DataLoader"
   ]
  },
  {
   "cell_type": "code",
   "execution_count": 16,
   "metadata": {},
   "outputs": [],
   "source": [
    "from variational_autoencoder_torch import VariationalAutoencoder\n",
    "\n",
    "desired_image_shape = (256, 224)\n",
    "batch_size = 16\n",
    "train_TMDB_dataset = TMDBDataset(train_movies, images_directory, desired_image_shape, is_train=True)\n",
    "train_TMDB_data_loader = DataLoader(train_TMDB_dataset, batch_size, shuffle=True)\n",
    "\n",
    "vae = VariationalAutoencoder(input_height=desired_image_shape[0], input_width=desired_image_shape[1], latent_dim=32, device=\"cuda\")"
   ]
  },
  {
   "attachments": {},
   "cell_type": "markdown",
   "metadata": {},
   "source": [
    "Train the VAE model using the ImageDataLoader class"
   ]
  },
  {
   "cell_type": "code",
   "execution_count": 18,
   "metadata": {},
   "outputs": [
    {
     "name": "stderr",
     "output_type": "stream",
     "text": [
      "Epoch 1/10: 100%|██████████| 133/133 [01:33<00:00,  1.42batch/s]\n",
      "Epoch 2/10: 100%|██████████| 133/133 [01:25<00:00,  1.55batch/s]\n",
      "Epoch 3/10: 100%|██████████| 133/133 [01:29<00:00,  1.49batch/s]\n",
      "Epoch 4/10: 100%|██████████| 133/133 [01:27<00:00,  1.51batch/s]\n",
      "Epoch 5/10: 100%|██████████| 133/133 [01:30<00:00,  1.48batch/s]\n",
      "Epoch 6/10: 100%|██████████| 133/133 [01:29<00:00,  1.48batch/s]\n",
      "Epoch 7/10: 100%|██████████| 133/133 [01:30<00:00,  1.47batch/s]\n",
      "Epoch 8/10: 100%|██████████| 133/133 [01:31<00:00,  1.45batch/s]\n",
      "Epoch 9/10: 100%|██████████| 133/133 [01:30<00:00,  1.46batch/s]\n",
      "Epoch 10/10: 100%|██████████| 133/133 [01:34<00:00,  1.40batch/s]\n"
     ]
    }
   ],
   "source": [
    "epochs = 10\n",
    "epoch_avg_train_losses = vae.train(data_loader=train_TMDB_data_loader, epochs=epochs)"
   ]
  },
  {
   "cell_type": "markdown",
   "metadata": {},
   "source": [
    "Save the trained model"
   ]
  },
  {
   "cell_type": "code",
   "execution_count": 19,
   "metadata": {},
   "outputs": [],
   "source": [
    "import torch"
   ]
  },
  {
   "cell_type": "code",
   "execution_count": 20,
   "metadata": {},
   "outputs": [],
   "source": [
    "torch.save(vae.state_dict(), 'trained_models/vae_posters.pth')"
   ]
  },
  {
   "attachments": {},
   "cell_type": "markdown",
   "metadata": {},
   "source": [
    "Plot the average training loss per epoch"
   ]
  },
  {
   "cell_type": "code",
   "execution_count": 21,
   "metadata": {},
   "outputs": [
    {
     "data": {
      "image/png": "[encoded data removed]",
      "text/plain": [
       "<Figure size 432x288 with 1 Axes>"
      ]
     },
     "metadata": {
      "needs_background": "light"
     },
     "output_type": "display_data"
    }
   ],
   "source": [
    "epochs_range = range(1, epochs + 1)\n",
    "plt.plot(epochs_range, epoch_avg_train_losses)\n",
    "plt.xlabel('Epochs')\n",
    "plt.ylabel('Average Training Loss')\n",
    "plt.title('Training Loss over Epochs')\n",
    "plt.show()"
   ]
  },
  {
   "attachments": {},
   "cell_type": "markdown",
   "metadata": {},
   "source": [
    "Show reconstruction examples"
   ]
  },
  {
   "cell_type": "code",
   "execution_count": 29,
   "metadata": {},
   "outputs": [
    {
     "data": {
      "image/png": "[encoded data removed]",
      "text/plain": [
       "<Figure size 432x288 with 1 Axes>"
      ]
     },
     "metadata": {
      "needs_background": "light"
     },
     "output_type": "display_data"
    },
    {
     "data": {
      "image/png": "[encoded data removed]",
      "text/plain": [
       "<Figure size 432x288 with 1 Axes>"
      ]
     },
     "metadata": {
      "needs_background": "light"
     },
     "output_type": "display_data"
    }
   ],
   "source": [
    "image = train_TMDB_dataset[5]\n",
    "plt.imshow(image.swapaxes(0, 1).swapaxes(1, 2))\n",
    "\n",
    "plt.show()\n",
    "\n",
    "with torch.no_grad():\n",
    "    reconstructed_image = vae(torch.Tensor(np.expand_dims(image, axis=0)).to(\"cuda\"))\n",
    "    plt.imshow(reconstructed_image[0][0].cpu().swapaxes(0, 1).swapaxes(1, 2))"
   ]
  },
  {
   "cell_type": "markdown",
   "metadata": {},
   "source": [
    "# Reviews"
   ]
  },
  {
   "cell_type": "markdown",
   "metadata": {},
   "source": [
    " - The movie reviews are reduced using the pretrained bert model\n",
    " - for each movie from the dataset there can be more than 1 review\n",
    " - each review of a movie is reduced to a vector of 5 numbers representing scores from 1 to 5 (probability)\n",
    " - after calculating scores for all movie reviews an average vector is calculated, so each movie has one vector for its reviews\n",
    " - the review embeddings longer than 512 are truncated to fit the maximum input size for the network"
   ]
  },
  {
   "cell_type": "code",
   "execution_count": 43,
   "metadata": {},
   "outputs": [],
   "source": [
    "from transformers import AutoTokenizer, AutoModelForSequenceClassification\n",
    "from config import hf_reviews_model\n",
    "from scipy.special import softmax\n",
    "\n",
    "reviews_tokenizer = AutoTokenizer.from_pretrained(hf_reviews_model)\n",
    "reviews_model = AutoModelForSequenceClassification.from_pretrained(hf_reviews_model)"
   ]
  },
  {
   "cell_type": "code",
   "execution_count": 44,
   "metadata": {},
   "outputs": [],
   "source": [
    "test_TMDB_dataset = TMDBDataset(test_movies, images_directory, desired_image_shape, is_train=False)"
   ]
  },
  {
   "cell_type": "code",
   "execution_count": 45,
   "metadata": {},
   "outputs": [],
   "source": [
    "def calculate_average(list_of_lists):\n",
    "    array = np.array(list_of_lists)\n",
    "    averages = np.mean(array, axis=0)\n",
    "    avg_list = averages.tolist()\n",
    "    return [round(score, 5) for score in avg_list]"
   ]
  },
  {
   "cell_type": "code",
   "execution_count": 46,
   "metadata": {},
   "outputs": [
    {
     "name": "stderr",
     "output_type": "stream",
     "text": [
      "c:\\Users\\Xotra\\AppData\\Local\\Programs\\Python\\Python39\\lib\\site-packages\\bs4\\__init__.py:435: MarkupResemblesLocatorWarning: The input looks more like a filename than markup. You may want to open this file and pass the filehandle into Beautiful Soup.\n",
      "  warnings.warn(\n"
     ]
    },
    {
     "name": "stdout",
     "output_type": "stream",
     "text": [
      "908\n"
     ]
    }
   ],
   "source": [
    "average_movie_review_scores = []\n",
    "\n",
    "for _, reviews in test_TMDB_dataset:\n",
    "    movie_review_scores = []\n",
    "    \n",
    "    for review in reviews:\n",
    "        review_embedding = reviews_tokenizer(review, return_tensors='pt', truncation=True, max_length=512)\n",
    "        output = reviews_model(**review_embedding)\n",
    "        scores = output[0][0].detach().numpy()\n",
    "        scores = softmax(scores)\n",
    "\n",
    "        movie_review_scores.append(scores)\n",
    "\n",
    "    average_movie_review_scores.append(calculate_average(movie_review_scores))\n",
    "\n",
    "print(len(average_movie_review_scores))"
   ]
  },
  {
   "cell_type": "markdown",
   "metadata": {},
   "source": [
    "# Structural data"
   ]
  },
  {
   "cell_type": "code",
   "execution_count": 47,
   "metadata": {},
   "outputs": [],
   "source": [
    "import pandas as pd"
   ]
  },
  {
   "cell_type": "markdown",
   "metadata": {},
   "source": [
    "Create train pandas dataframe - for now only titles and overviews will be used to train separate Doc2Vec models"
   ]
  },
  {
   "cell_type": "code",
   "execution_count": 48,
   "metadata": {},
   "outputs": [
    {
     "data": {
      "text/html": [
       "<div>\n",
       "<style scoped>\n",
       "    .dataframe tbody tr th:only-of-type {\n",
       "        vertical-align: middle;\n",
       "    }\n",
       "\n",
       "    .dataframe tbody tr th {\n",
       "        vertical-align: top;\n",
       "    }\n",
       "\n",
       "    .dataframe thead th {\n",
       "        text-align: right;\n",
       "    }\n",
       "</style>\n",
       "<table border=\"1\" class=\"dataframe\">\n",
       "  <thead>\n",
       "    <tr style=\"text-align: right;\">\n",
       "      <th></th>\n",
       "      <th>title</th>\n",
       "      <th>overview</th>\n",
       "    </tr>\n",
       "  </thead>\n",
       "  <tbody>\n",
       "    <tr>\n",
       "      <th>0</th>\n",
       "      <td>Shadows in Paradise</td>\n",
       "      <td>Nikander, a rubbish collector and would-be ent...</td>\n",
       "    </tr>\n",
       "    <tr>\n",
       "      <th>1</th>\n",
       "      <td>Star Wars</td>\n",
       "      <td>Princess Leia is captured and held hostage by ...</td>\n",
       "    </tr>\n",
       "    <tr>\n",
       "      <th>2</th>\n",
       "      <td>Finding Nemo</td>\n",
       "      <td>Nemo, an adventurous young clownfish, is unexp...</td>\n",
       "    </tr>\n",
       "    <tr>\n",
       "      <th>3</th>\n",
       "      <td>American Beauty</td>\n",
       "      <td>Lester Burnham, a depressed suburban father in...</td>\n",
       "    </tr>\n",
       "    <tr>\n",
       "      <th>4</th>\n",
       "      <td>Citizen Kane</td>\n",
       "      <td>Newspaper magnate, Charles Foster Kane is take...</td>\n",
       "    </tr>\n",
       "    <tr>\n",
       "      <th>...</th>\n",
       "      <td>...</td>\n",
       "      <td>...</td>\n",
       "    </tr>\n",
       "    <tr>\n",
       "      <th>2112</th>\n",
       "      <td>The Wedding Singer</td>\n",
       "      <td>Robbie, a local rock star turned wedding singe...</td>\n",
       "    </tr>\n",
       "    <tr>\n",
       "      <th>2113</th>\n",
       "      <td>Wonder Boys</td>\n",
       "      <td>Grady is a 50-ish English professor who hasn't...</td>\n",
       "    </tr>\n",
       "    <tr>\n",
       "      <th>2114</th>\n",
       "      <td>Awakenings</td>\n",
       "      <td>Dr. Malcolm Sayer, a shy research physician, u...</td>\n",
       "    </tr>\n",
       "    <tr>\n",
       "      <th>2115</th>\n",
       "      <td>Smokey and the Bandit</td>\n",
       "      <td>A race car driver tries to transport an illega...</td>\n",
       "    </tr>\n",
       "    <tr>\n",
       "      <th>2116</th>\n",
       "      <td>Saturday Night Fever</td>\n",
       "      <td>Tony spends his Saturdays at a disco where his...</td>\n",
       "    </tr>\n",
       "  </tbody>\n",
       "</table>\n",
       "<p>2117 rows × 2 columns</p>\n",
       "</div>"
      ],
      "text/plain": [
       "                      title                                           overview\n",
       "0       Shadows in Paradise  Nikander, a rubbish collector and would-be ent...\n",
       "1                 Star Wars  Princess Leia is captured and held hostage by ...\n",
       "2              Finding Nemo  Nemo, an adventurous young clownfish, is unexp...\n",
       "3           American Beauty  Lester Burnham, a depressed suburban father in...\n",
       "4              Citizen Kane  Newspaper magnate, Charles Foster Kane is take...\n",
       "...                     ...                                                ...\n",
       "2112     The Wedding Singer  Robbie, a local rock star turned wedding singe...\n",
       "2113            Wonder Boys  Grady is a 50-ish English professor who hasn't...\n",
       "2114             Awakenings  Dr. Malcolm Sayer, a shy research physician, u...\n",
       "2115  Smokey and the Bandit  A race car driver tries to transport an illega...\n",
       "2116   Saturday Night Fever  Tony spends his Saturdays at a disco where his...\n",
       "\n",
       "[2117 rows x 2 columns]"
      ]
     },
     "execution_count": 48,
     "metadata": {},
     "output_type": "execute_result"
    }
   ],
   "source": [
    "train_df = pd.DataFrame([\n",
    "    {\n",
    "        \"title\": movie.title,\n",
    "        \"overview\": movie.overview,\n",
    "    }\n",
    "    for movie in train_movies\n",
    "])\n",
    "\n",
    "train_df"
   ]
  },
  {
   "cell_type": "code",
   "execution_count": 49,
   "metadata": {},
   "outputs": [],
   "source": [
    "from gensim.models.doc2vec import Doc2Vec, TaggedDocument"
   ]
  },
  {
   "cell_type": "markdown",
   "metadata": {},
   "source": [
    "Train the Doc2Vec model for title embeddings and save the trained model"
   ]
  },
  {
   "cell_type": "code",
   "execution_count": null,
   "metadata": {},
   "outputs": [],
   "source": [
    "train_titles_tagged_data = [TaggedDocument(words=preprocess_text(title, return_tokens=True), tags=[str(i)]) for i, title in enumerate(train_df['title'])]\n",
    "\n",
    "titles_model = Doc2Vec(vector_size=100, window=5, min_count=1, workers=4, epochs=100)\n",
    "titles_model.build_vocab(train_titles_tagged_data)\n",
    "titles_model.train(train_titles_tagged_data, total_examples=titles_model.corpus_count, epochs=titles_model.epochs)\n",
    "\n",
    "titles_model.save('trained_models/titles_doc2vec_model.bin')"
   ]
  },
  {
   "cell_type": "markdown",
   "metadata": {},
   "source": [
    "Train the Doc2Vec model for overview embeddings and save the model"
   ]
  },
  {
   "cell_type": "code",
   "execution_count": 17,
   "metadata": {},
   "outputs": [
    {
     "name": "stderr",
     "output_type": "stream",
     "text": [
      "c:\\Users\\Xotra\\AppData\\Local\\Programs\\Python\\Python39\\lib\\site-packages\\bs4\\__init__.py:435: MarkupResemblesLocatorWarning: The input looks more like a filename than markup. You may want to open this file and pass the filehandle into Beautiful Soup.\n",
      "  warnings.warn(\n"
     ]
    }
   ],
   "source": [
    "train_overviews_tagged_data = [TaggedDocument(words=preprocess_text(overview, return_tokens=True), tags=[str(i)]) for i, overview in enumerate(train_df['overview'])]\n",
    "\n",
    "overviews_model = Doc2Vec(vector_size=200, window=5, min_count=1, workers=4, epochs=100)\n",
    "overviews_model.build_vocab(train_overviews_tagged_data)\n",
    "overviews_model.train(train_overviews_tagged_data, total_examples=overviews_model.corpus_count, epochs=overviews_model.epochs)\n",
    "\n",
    "overviews_model.save('trained_models/overviews_doc2vec_model.bin')"
   ]
  },
  {
   "cell_type": "markdown",
   "metadata": {},
   "source": [
    "Create the pandas dataframe using the test data and remove columns that are redundant, separate genres as labels"
   ]
  },
  {
   "cell_type": "code",
   "execution_count": 50,
   "metadata": {},
   "outputs": [],
   "source": [
    "test_df = pd.DataFrame([\n",
    "    vars(movie) for movie in test_movies\n",
    "])\n",
    "\n",
    "columns_to_drop = [\n",
    "    '_sa_instance_state', # sql alchemy state object not needed for clustering\n",
    "    'id', # id is only needed for the ORM\n",
    "    'poster_path', # VAE will handle posters - later the reduced poster vectors will be added to the df\n",
    "    'original_title', # not needed - title feature will do\n",
    "    'backdrop_path', # backdrops are not processed\n",
    "    'original_language', # the original language is always a part of spoken languages array property\n",
    "    'reviews', # reviews are handled separately - scores vectors will be added later to the df\n",
    "    'tagline', # about 60% of movies don't have taglines specified, so simply drop it\n",
    "    'spoken_languages', # for now let's drop it - if there's time left OHE could be used - about 100 langues in db\n",
    "    'production_countries', # same as above OHE can be used\n",
    "    'production_companies' # same as above but don't know yet how to reduce\n",
    "]\n",
    "\n",
    "labels = test_df['genres']\n",
    "test_df = test_df.drop(columns=['genres'])\n",
    "\n",
    "test_df = test_df.drop(columns=columns_to_drop)\n"
   ]
  },
  {
   "cell_type": "markdown",
   "metadata": {},
   "source": [
    "Convert the movie titles to embeddings using the trained Doc2Vec model"
   ]
  },
  {
   "cell_type": "code",
   "execution_count": 51,
   "metadata": {},
   "outputs": [
    {
     "name": "stderr",
     "output_type": "stream",
     "text": [
      "c:\\Users\\Xotra\\AppData\\Local\\Programs\\Python\\Python39\\lib\\site-packages\\bs4\\__init__.py:435: MarkupResemblesLocatorWarning: The input looks more like a filename than markup. You may want to open this file and pass the filehandle into Beautiful Soup.\n",
      "  warnings.warn(\n"
     ]
    }
   ],
   "source": [
    "titles_model = Doc2Vec.load('trained_models/titles_doc2vec_model.bin')\n",
    "title_embeddings = [titles_model.infer_vector(preprocess_text(title, return_tokens=True)) for title in test_df['title']]\n",
    "\n",
    "title_embedding_column_dict = {f\"title_embedding_{i}\": [vector[i] for vector in title_embeddings] for i in range(100)}\n",
    "title_embeddings_df = pd.DataFrame(title_embedding_column_dict)\n",
    "\n",
    "test_df = pd.concat([test_df, title_embeddings_df], axis=1).drop(columns=['title'])"
   ]
  },
  {
   "cell_type": "markdown",
   "metadata": {},
   "source": [
    "Convert the movie overviews to embeddings using the trained Doc2Vec model"
   ]
  },
  {
   "cell_type": "code",
   "execution_count": 52,
   "metadata": {},
   "outputs": [
    {
     "name": "stderr",
     "output_type": "stream",
     "text": [
      "c:\\Users\\Xotra\\AppData\\Local\\Programs\\Python\\Python39\\lib\\site-packages\\bs4\\__init__.py:435: MarkupResemblesLocatorWarning: The input looks more like a filename than markup. You may want to open this file and pass the filehandle into Beautiful Soup.\n",
      "  warnings.warn(\n"
     ]
    }
   ],
   "source": [
    "overviews_model = Doc2Vec.load('trained_models/overviews_doc2vec_model.bin')\n",
    "overview_embeddings = [overviews_model.infer_vector(preprocess_text(overview, return_tokens=True)) for overview in test_df['overview']]\n",
    "\n",
    "overview_embedding_column_dict = {f\"overview_embedding_{i}\": [vector[i] for vector in overview_embeddings] for i in range(200)}\n",
    "overview_embeddings_df = pd.DataFrame(overview_embedding_column_dict)\n",
    "\n",
    "test_df = pd.concat([test_df, overview_embeddings_df], axis=1).drop(columns=['overview'])"
   ]
  },
  {
   "cell_type": "markdown",
   "metadata": {},
   "source": [
    "Split the release_date column into 3 separate columns - year, month and day"
   ]
  },
  {
   "cell_type": "code",
   "execution_count": 53,
   "metadata": {},
   "outputs": [],
   "source": [
    "test_df[['release_year', 'release_month', 'release_day']] = test_df['release_date'].str.split('-', expand=True)\n",
    "\n",
    "test_df['release_year'] = test_df['release_year'].astype(int)\n",
    "test_df['release_month'] = test_df['release_month'].astype(int)\n",
    "test_df['release_day'] = test_df['release_day'].astype(int)\n",
    "\n",
    "test_df = test_df.drop(columns=['release_date'])"
   ]
  },
  {
   "cell_type": "markdown",
   "metadata": {},
   "source": [
    "Convert booleans to integer values"
   ]
  },
  {
   "cell_type": "code",
   "execution_count": 54,
   "metadata": {},
   "outputs": [],
   "source": [
    "test_df['adult'] = test_df['adult'].astype(int)\n",
    "test_df['video'] = test_df['adult'].astype(int)"
   ]
  },
  {
   "cell_type": "markdown",
   "metadata": {},
   "source": [
    "Perform one hot encoding for the enum status column"
   ]
  },
  {
   "cell_type": "code",
   "execution_count": 55,
   "metadata": {},
   "outputs": [],
   "source": [
    "status_encoded = pd.get_dummies(test_df['status'].apply(lambda x: x.name.lower()), prefix='status')\n",
    "\n",
    "test_df = pd.concat([test_df, status_encoded], axis=1).drop(columns=['status'])"
   ]
  },
  {
   "cell_type": "markdown",
   "metadata": {},
   "source": [
    "Reduce cast array to cast size, an average cast popularity and gender percentage vector"
   ]
  },
  {
   "cell_type": "code",
   "execution_count": 56,
   "metadata": {},
   "outputs": [],
   "source": [
    "from models.person import Person\n",
    "\n",
    "def reduce_people(people: List[Person]):\n",
    "    people_count = len(people)\n",
    "    avg_popularity = sum(person.popularity for person in people) / people_count\n",
    "\n",
    "    gender_count = [0, 0, 0, 0]\n",
    "\n",
    "    for person in people:\n",
    "        gender_count[person.gender] +=1\n",
    "    \n",
    "    gender_percentage_vector = [count / people_count * 100 for count in gender_count]\n",
    "\n",
    "    return people_count, avg_popularity, gender_percentage_vector"
   ]
  },
  {
   "cell_type": "code",
   "execution_count": 57,
   "metadata": {},
   "outputs": [],
   "source": [
    "test_df[['cast_size', 'avg_cast_popularity', 'cast_gender_percentages']] = test_df['cast'].apply(reduce_people).apply(pd.Series)\n",
    "\n",
    "test_df[['cast_non_specified_percentage', 'cast_male_percentage', 'cast_female_percentage', 'cast_non_binary_percentage']] = test_df['cast_gender_percentages'].apply(pd.Series)\n",
    "\n",
    "test_df = test_df.drop(columns=['cast', 'cast_gender_percentages'])"
   ]
  },
  {
   "cell_type": "markdown",
   "metadata": {},
   "source": [
    "Reduce directors array to number of directors, an average directors popularity and gender percentage vector"
   ]
  },
  {
   "cell_type": "code",
   "execution_count": 58,
   "metadata": {},
   "outputs": [],
   "source": [
    "test_df[['number_of_directors', 'avg_directors_popularity', 'directors_gender_percentages']] = test_df['directors'].apply(reduce_people).apply(pd.Series)\n",
    "\n",
    "test_df[['directors_non_specified_percentage', 'directors_male_percentage', 'directors_female_percentage', 'directors_non_binary_percentage']] = test_df['directors_gender_percentages'].apply(pd.Series)\n",
    "\n",
    "test_df = test_df.drop(columns=['directors', 'directors_gender_percentages'])"
   ]
  },
  {
   "cell_type": "markdown",
   "metadata": {},
   "source": [
    "Add the calculated average review scores to the df"
   ]
  },
  {
   "cell_type": "code",
   "execution_count": 59,
   "metadata": {},
   "outputs": [],
   "source": [
    "avg_movie_scores_df = pd.DataFrame(average_movie_review_scores, columns=['1_star', '2_stars', '3_stars', '4_stars', '5_stars'])\n",
    "\n",
    "test_df = pd.concat([test_df, avg_movie_scores_df], axis=1)"
   ]
  },
  {
   "cell_type": "markdown",
   "metadata": {},
   "source": [
    "Add the poster embeddings returned by the trained VAE model"
   ]
  },
  {
   "cell_type": "code",
   "execution_count": null,
   "metadata": {},
   "outputs": [],
   "source": [
    "vae: VariationalAutoencoder = torch.load('trained_models/vae_posters.pth')\n",
    "vae.eval()"
   ]
  },
  {
   "cell_type": "code",
   "execution_count": 66,
   "metadata": {},
   "outputs": [
    {
     "name": "stderr",
     "output_type": "stream",
     "text": [
      "c:\\Users\\Xotra\\AppData\\Local\\Programs\\Python\\Python39\\lib\\site-packages\\bs4\\__init__.py:435: MarkupResemblesLocatorWarning: The input looks more like a filename than markup. You may want to open this file and pass the filehandle into Beautiful Soup.\n",
      "  warnings.warn(\n"
     ]
    },
    {
     "name": "stdout",
     "output_type": "stream",
     "text": [
      "908\n"
     ]
    }
   ],
   "source": [
    "poster_embeddings = []\n",
    "\n",
    "for poster, _ in test_TMDB_dataset:\n",
    "    with torch.no_grad():\n",
    "        poster_embedding_tensor = vae.get_feature_vector(torch.Tensor(np.expand_dims(poster, axis=0)).to(\"cuda\"))\n",
    "        poster_embedding = poster_embedding_tensor[0].cpu().detach().numpy()\n",
    "\n",
    "        poster_embeddings.append(poster_embedding)\n",
    "\n",
    "print(len(poster_embeddings))"
   ]
  },
  {
   "cell_type": "code",
   "execution_count": 69,
   "metadata": {},
   "outputs": [],
   "source": [
    "poster_embedding_column_dict = {f\"poster_embedding_{i}\": [vector[i] for vector in poster_embeddings] for i in range(32)}\n",
    "poster_embeddings_df = pd.DataFrame(poster_embedding_column_dict)"
   ]
  },
  {
   "cell_type": "code",
   "execution_count": 70,
   "metadata": {},
   "outputs": [],
   "source": [
    "test_df = pd.concat([test_df, poster_embeddings_df], axis=1)"
   ]
  },
  {
   "cell_type": "code",
   "execution_count": 75,
   "metadata": {},
   "outputs": [
    {
     "data": {
      "text/html": [
       "<div>\n",
       "<style scoped>\n",
       "    .dataframe tbody tr th:only-of-type {\n",
       "        vertical-align: middle;\n",
       "    }\n",
       "\n",
       "    .dataframe tbody tr th {\n",
       "        vertical-align: top;\n",
       "    }\n",
       "\n",
       "    .dataframe thead th {\n",
       "        text-align: right;\n",
       "    }\n",
       "</style>\n",
       "<table border=\"1\" class=\"dataframe\">\n",
       "  <thead>\n",
       "    <tr style=\"text-align: right;\">\n",
       "      <th></th>\n",
       "      <th>adult</th>\n",
       "      <th>budget</th>\n",
       "      <th>video</th>\n",
       "      <th>popularity</th>\n",
       "      <th>revenue</th>\n",
       "      <th>vote_average</th>\n",
       "      <th>vote_count</th>\n",
       "      <th>runtime</th>\n",
       "      <th>title_embedding_0</th>\n",
       "      <th>title_embedding_1</th>\n",
       "      <th>...</th>\n",
       "      <th>poster_embedding_22</th>\n",
       "      <th>poster_embedding_23</th>\n",
       "      <th>poster_embedding_24</th>\n",
       "      <th>poster_embedding_25</th>\n",
       "      <th>poster_embedding_26</th>\n",
       "      <th>poster_embedding_27</th>\n",
       "      <th>poster_embedding_28</th>\n",
       "      <th>poster_embedding_29</th>\n",
       "      <th>poster_embedding_30</th>\n",
       "      <th>poster_embedding_31</th>\n",
       "    </tr>\n",
       "  </thead>\n",
       "  <tbody>\n",
       "    <tr>\n",
       "      <th>0</th>\n",
       "      <td>0</td>\n",
       "      <td>0</td>\n",
       "      <td>0</td>\n",
       "      <td>10.738</td>\n",
       "      <td>0</td>\n",
       "      <td>7.900</td>\n",
       "      <td>1039</td>\n",
       "      <td>109</td>\n",
       "      <td>-0.171402</td>\n",
       "      <td>0.009322</td>\n",
       "      <td>...</td>\n",
       "      <td>-0.067930</td>\n",
       "      <td>0.262520</td>\n",
       "      <td>0.493348</td>\n",
       "      <td>-0.138819</td>\n",
       "      <td>1.428930</td>\n",
       "      <td>1.064858</td>\n",
       "      <td>1.227680</td>\n",
       "      <td>-0.926077</td>\n",
       "      <td>1.043314</td>\n",
       "      <td>0.035419</td>\n",
       "    </tr>\n",
       "    <tr>\n",
       "      <th>1</th>\n",
       "      <td>0</td>\n",
       "      <td>0</td>\n",
       "      <td>0</td>\n",
       "      <td>19.744</td>\n",
       "      <td>7532911</td>\n",
       "      <td>6.600</td>\n",
       "      <td>387</td>\n",
       "      <td>111</td>\n",
       "      <td>-0.174306</td>\n",
       "      <td>0.011820</td>\n",
       "      <td>...</td>\n",
       "      <td>-0.736991</td>\n",
       "      <td>-1.564016</td>\n",
       "      <td>0.823415</td>\n",
       "      <td>-1.754270</td>\n",
       "      <td>0.819774</td>\n",
       "      <td>2.141160</td>\n",
       "      <td>1.455840</td>\n",
       "      <td>-1.250786</td>\n",
       "      <td>0.032158</td>\n",
       "      <td>-2.463018</td>\n",
       "    </tr>\n",
       "    <tr>\n",
       "      <th>2</th>\n",
       "      <td>0</td>\n",
       "      <td>4000000</td>\n",
       "      <td>0</td>\n",
       "      <td>24.643</td>\n",
       "      <td>9304609</td>\n",
       "      <td>6.796</td>\n",
       "      <td>1366</td>\n",
       "      <td>107</td>\n",
       "      <td>0.001134</td>\n",
       "      <td>0.002946</td>\n",
       "      <td>...</td>\n",
       "      <td>-0.774277</td>\n",
       "      <td>0.493245</td>\n",
       "      <td>0.189377</td>\n",
       "      <td>1.937130</td>\n",
       "      <td>1.362837</td>\n",
       "      <td>0.738285</td>\n",
       "      <td>1.656618</td>\n",
       "      <td>0.174523</td>\n",
       "      <td>0.403552</td>\n",
       "      <td>1.064717</td>\n",
       "    </tr>\n",
       "    <tr>\n",
       "      <th>3</th>\n",
       "      <td>0</td>\n",
       "      <td>60000000</td>\n",
       "      <td>0</td>\n",
       "      <td>13.557</td>\n",
       "      <td>33956608</td>\n",
       "      <td>5.968</td>\n",
       "      <td>450</td>\n",
       "      <td>110</td>\n",
       "      <td>-0.001519</td>\n",
       "      <td>-0.003913</td>\n",
       "      <td>...</td>\n",
       "      <td>0.086687</td>\n",
       "      <td>-2.123912</td>\n",
       "      <td>1.163583</td>\n",
       "      <td>-0.947764</td>\n",
       "      <td>1.320607</td>\n",
       "      <td>2.742190</td>\n",
       "      <td>2.500088</td>\n",
       "      <td>-0.423726</td>\n",
       "      <td>0.169799</td>\n",
       "      <td>-1.618071</td>\n",
       "    </tr>\n",
       "    <tr>\n",
       "      <th>4</th>\n",
       "      <td>0</td>\n",
       "      <td>0</td>\n",
       "      <td>0</td>\n",
       "      <td>9.879</td>\n",
       "      <td>0</td>\n",
       "      <td>7.500</td>\n",
       "      <td>451</td>\n",
       "      <td>100</td>\n",
       "      <td>-0.180100</td>\n",
       "      <td>0.017724</td>\n",
       "      <td>...</td>\n",
       "      <td>-0.501053</td>\n",
       "      <td>0.096179</td>\n",
       "      <td>0.774265</td>\n",
       "      <td>-2.156729</td>\n",
       "      <td>0.253997</td>\n",
       "      <td>-0.165588</td>\n",
       "      <td>0.687871</td>\n",
       "      <td>0.682065</td>\n",
       "      <td>-0.645397</td>\n",
       "      <td>-0.945909</td>\n",
       "    </tr>\n",
       "    <tr>\n",
       "      <th>...</th>\n",
       "      <td>...</td>\n",
       "      <td>...</td>\n",
       "      <td>...</td>\n",
       "      <td>...</td>\n",
       "      <td>...</td>\n",
       "      <td>...</td>\n",
       "      <td>...</td>\n",
       "      <td>...</td>\n",
       "      <td>...</td>\n",
       "      <td>...</td>\n",
       "      <td>...</td>\n",
       "      <td>...</td>\n",
       "      <td>...</td>\n",
       "      <td>...</td>\n",
       "      <td>...</td>\n",
       "      <td>...</td>\n",
       "      <td>...</td>\n",
       "      <td>...</td>\n",
       "      <td>...</td>\n",
       "      <td>...</td>\n",
       "      <td>...</td>\n",
       "    </tr>\n",
       "    <tr>\n",
       "      <th>903</th>\n",
       "      <td>0</td>\n",
       "      <td>12000000</td>\n",
       "      <td>0</td>\n",
       "      <td>10.022</td>\n",
       "      <td>61141030</td>\n",
       "      <td>5.226</td>\n",
       "      <td>537</td>\n",
       "      <td>93</td>\n",
       "      <td>-0.004717</td>\n",
       "      <td>0.004419</td>\n",
       "      <td>...</td>\n",
       "      <td>-0.578095</td>\n",
       "      <td>0.199857</td>\n",
       "      <td>0.805738</td>\n",
       "      <td>0.371388</td>\n",
       "      <td>0.883558</td>\n",
       "      <td>0.776901</td>\n",
       "      <td>0.465854</td>\n",
       "      <td>-0.469094</td>\n",
       "      <td>-0.996284</td>\n",
       "      <td>-0.417060</td>\n",
       "    </tr>\n",
       "    <tr>\n",
       "      <th>904</th>\n",
       "      <td>0</td>\n",
       "      <td>0</td>\n",
       "      <td>0</td>\n",
       "      <td>5.981</td>\n",
       "      <td>0</td>\n",
       "      <td>6.694</td>\n",
       "      <td>98</td>\n",
       "      <td>85</td>\n",
       "      <td>-0.347427</td>\n",
       "      <td>0.036517</td>\n",
       "      <td>...</td>\n",
       "      <td>1.277813</td>\n",
       "      <td>-0.891097</td>\n",
       "      <td>1.396731</td>\n",
       "      <td>-1.253753</td>\n",
       "      <td>0.268259</td>\n",
       "      <td>1.370496</td>\n",
       "      <td>0.420877</td>\n",
       "      <td>0.066812</td>\n",
       "      <td>-0.791375</td>\n",
       "      <td>-1.257095</td>\n",
       "    </tr>\n",
       "    <tr>\n",
       "      <th>905</th>\n",
       "      <td>0</td>\n",
       "      <td>22000000</td>\n",
       "      <td>0</td>\n",
       "      <td>15.458</td>\n",
       "      <td>17280326</td>\n",
       "      <td>5.899</td>\n",
       "      <td>681</td>\n",
       "      <td>108</td>\n",
       "      <td>-0.188978</td>\n",
       "      <td>0.017752</td>\n",
       "      <td>...</td>\n",
       "      <td>-0.634729</td>\n",
       "      <td>-0.529397</td>\n",
       "      <td>-0.056574</td>\n",
       "      <td>0.194491</td>\n",
       "      <td>0.909209</td>\n",
       "      <td>1.852511</td>\n",
       "      <td>0.407170</td>\n",
       "      <td>-0.547665</td>\n",
       "      <td>-0.880373</td>\n",
       "      <td>-0.718792</td>\n",
       "    </tr>\n",
       "    <tr>\n",
       "      <th>906</th>\n",
       "      <td>0</td>\n",
       "      <td>0</td>\n",
       "      <td>0</td>\n",
       "      <td>10.438</td>\n",
       "      <td>0</td>\n",
       "      <td>7.446</td>\n",
       "      <td>288</td>\n",
       "      <td>99</td>\n",
       "      <td>-0.212584</td>\n",
       "      <td>0.005146</td>\n",
       "      <td>...</td>\n",
       "      <td>0.274055</td>\n",
       "      <td>-0.949669</td>\n",
       "      <td>0.833207</td>\n",
       "      <td>-0.719386</td>\n",
       "      <td>0.709649</td>\n",
       "      <td>1.677125</td>\n",
       "      <td>1.397465</td>\n",
       "      <td>-0.317948</td>\n",
       "      <td>-0.924431</td>\n",
       "      <td>-1.210384</td>\n",
       "    </tr>\n",
       "    <tr>\n",
       "      <th>907</th>\n",
       "      <td>0</td>\n",
       "      <td>0</td>\n",
       "      <td>0</td>\n",
       "      <td>3.910</td>\n",
       "      <td>58776</td>\n",
       "      <td>5.800</td>\n",
       "      <td>18</td>\n",
       "      <td>92</td>\n",
       "      <td>-0.116229</td>\n",
       "      <td>0.017720</td>\n",
       "      <td>...</td>\n",
       "      <td>-0.152808</td>\n",
       "      <td>-0.689864</td>\n",
       "      <td>0.311138</td>\n",
       "      <td>-1.895985</td>\n",
       "      <td>-0.517335</td>\n",
       "      <td>1.572802</td>\n",
       "      <td>1.611632</td>\n",
       "      <td>1.684933</td>\n",
       "      <td>-0.829832</td>\n",
       "      <td>-0.703749</td>\n",
       "    </tr>\n",
       "  </tbody>\n",
       "</table>\n",
       "<p>908 rows × 361 columns</p>\n",
       "</div>"
      ],
      "text/plain": [
       "     adult    budget  video  popularity   revenue  vote_average  vote_count  \\\n",
       "0        0         0      0      10.738         0         7.900        1039   \n",
       "1        0         0      0      19.744   7532911         6.600         387   \n",
       "2        0   4000000      0      24.643   9304609         6.796        1366   \n",
       "3        0  60000000      0      13.557  33956608         5.968         450   \n",
       "4        0         0      0       9.879         0         7.500         451   \n",
       "..     ...       ...    ...         ...       ...           ...         ...   \n",
       "903      0  12000000      0      10.022  61141030         5.226         537   \n",
       "904      0         0      0       5.981         0         6.694          98   \n",
       "905      0  22000000      0      15.458  17280326         5.899         681   \n",
       "906      0         0      0      10.438         0         7.446         288   \n",
       "907      0         0      0       3.910     58776         5.800          18   \n",
       "\n",
       "     runtime  title_embedding_0  title_embedding_1  ...  poster_embedding_22  \\\n",
       "0        109          -0.171402           0.009322  ...            -0.067930   \n",
       "1        111          -0.174306           0.011820  ...            -0.736991   \n",
       "2        107           0.001134           0.002946  ...            -0.774277   \n",
       "3        110          -0.001519          -0.003913  ...             0.086687   \n",
       "4        100          -0.180100           0.017724  ...            -0.501053   \n",
       "..       ...                ...                ...  ...                  ...   \n",
       "903       93          -0.004717           0.004419  ...            -0.578095   \n",
       "904       85          -0.347427           0.036517  ...             1.277813   \n",
       "905      108          -0.188978           0.017752  ...            -0.634729   \n",
       "906       99          -0.212584           0.005146  ...             0.274055   \n",
       "907       92          -0.116229           0.017720  ...            -0.152808   \n",
       "\n",
       "     poster_embedding_23  poster_embedding_24  poster_embedding_25  \\\n",
       "0               0.262520             0.493348            -0.138819   \n",
       "1              -1.564016             0.823415            -1.754270   \n",
       "2               0.493245             0.189377             1.937130   \n",
       "3              -2.123912             1.163583            -0.947764   \n",
       "4               0.096179             0.774265            -2.156729   \n",
       "..                   ...                  ...                  ...   \n",
       "903             0.199857             0.805738             0.371388   \n",
       "904            -0.891097             1.396731            -1.253753   \n",
       "905            -0.529397            -0.056574             0.194491   \n",
       "906            -0.949669             0.833207            -0.719386   \n",
       "907            -0.689864             0.311138            -1.895985   \n",
       "\n",
       "     poster_embedding_26  poster_embedding_27  poster_embedding_28  \\\n",
       "0               1.428930             1.064858             1.227680   \n",
       "1               0.819774             2.141160             1.455840   \n",
       "2               1.362837             0.738285             1.656618   \n",
       "3               1.320607             2.742190             2.500088   \n",
       "4               0.253997            -0.165588             0.687871   \n",
       "..                   ...                  ...                  ...   \n",
       "903             0.883558             0.776901             0.465854   \n",
       "904             0.268259             1.370496             0.420877   \n",
       "905             0.909209             1.852511             0.407170   \n",
       "906             0.709649             1.677125             1.397465   \n",
       "907            -0.517335             1.572802             1.611632   \n",
       "\n",
       "     poster_embedding_29  poster_embedding_30  poster_embedding_31  \n",
       "0              -0.926077             1.043314             0.035419  \n",
       "1              -1.250786             0.032158            -2.463018  \n",
       "2               0.174523             0.403552             1.064717  \n",
       "3              -0.423726             0.169799            -1.618071  \n",
       "4               0.682065            -0.645397            -0.945909  \n",
       "..                   ...                  ...                  ...  \n",
       "903            -0.469094            -0.996284            -0.417060  \n",
       "904             0.066812            -0.791375            -1.257095  \n",
       "905            -0.547665            -0.880373            -0.718792  \n",
       "906            -0.317948            -0.924431            -1.210384  \n",
       "907             1.684933            -0.829832            -0.703749  \n",
       "\n",
       "[908 rows x 361 columns]"
      ]
     },
     "execution_count": 75,
     "metadata": {},
     "output_type": "execute_result"
    }
   ],
   "source": [
    "test_df"
   ]
  },
  {
   "cell_type": "code",
   "execution_count": 74,
   "metadata": {},
   "outputs": [
    {
     "name": "stdout",
     "output_type": "stream",
     "text": [
      "<class 'pandas.core.frame.DataFrame'>\n",
      "RangeIndex: 908 entries, 0 to 907\n",
      "Columns: 361 entries, adult to poster_embedding_31\n",
      "dtypes: float32(332), float64(17), int32(5), int64(6), uint8(1)\n",
      "memory usage: 1.3 MB\n"
     ]
    }
   ],
   "source": [
    "test_df.info()"
   ]
  },
  {
   "cell_type": "markdown",
   "metadata": {},
   "source": [
    "# PCA\n",
    "\n",
    "TODO - this PCA might be a bit stupid to perform - maybe each data type should have separate PCA, I assume that e.g. image embeddings get removed completely"
   ]
  },
  {
   "cell_type": "code",
   "execution_count": 77,
   "metadata": {},
   "outputs": [],
   "source": [
    "from sklearn.decomposition import PCA\n",
    "from sklearn.preprocessing import StandardScaler"
   ]
  },
  {
   "cell_type": "markdown",
   "metadata": {},
   "source": [
    "Standarize the features"
   ]
  },
  {
   "cell_type": "code",
   "execution_count": 79,
   "metadata": {},
   "outputs": [],
   "source": [
    "scaler = StandardScaler()\n",
    "X_scaled = scaler.fit_transform(test_df)"
   ]
  },
  {
   "cell_type": "markdown",
   "metadata": {},
   "source": [
    "Create the PCA instance and fit the data"
   ]
  },
  {
   "cell_type": "code",
   "execution_count": 80,
   "metadata": {},
   "outputs": [
    {
     "data": {
      "text/html": [
       "<style>#sk-container-id-1 {color: black;}#sk-container-id-1 pre{padding: 0;}#sk-container-id-1 div.sk-toggleable {background-color: white;}#sk-container-id-1 label.sk-toggleable__label {cursor: pointer;display: block;width: 100%;margin-bottom: 0;padding: 0.3em;box-sizing: border-box;text-align: center;}#sk-container-id-1 label.sk-toggleable__label-arrow:before {content: \"▸\";float: left;margin-right: 0.25em;color: #696969;}#sk-container-id-1 label.sk-toggleable__label-arrow:hover:before {color: black;}#sk-container-id-1 div.sk-estimator:hover label.sk-toggleable__label-arrow:before {color: black;}#sk-container-id-1 div.sk-toggleable__content {max-height: 0;max-width: 0;overflow: hidden;text-align: left;background-color: #f0f8ff;}#sk-container-id-1 div.sk-toggleable__content pre {margin: 0.2em;color: black;border-radius: 0.25em;background-color: #f0f8ff;}#sk-container-id-1 input.sk-toggleable__control:checked~div.sk-toggleable__content {max-height: 200px;max-width: 100%;overflow: auto;}#sk-container-id-1 input.sk-toggleable__control:checked~label.sk-toggleable__label-arrow:before {content: \"▾\";}#sk-container-id-1 div.sk-estimator input.sk-toggleable__control:checked~label.sk-toggleable__label {background-color: #d4ebff;}#sk-container-id-1 div.sk-label input.sk-toggleable__control:checked~label.sk-toggleable__label {background-color: #d4ebff;}#sk-container-id-1 input.sk-hidden--visually {border: 0;clip: rect(1px 1px 1px 1px);clip: rect(1px, 1px, 1px, 1px);height: 1px;margin: -1px;overflow: hidden;padding: 0;position: absolute;width: 1px;}#sk-container-id-1 div.sk-estimator {font-family: monospace;background-color: #f0f8ff;border: 1px dotted black;border-radius: 0.25em;box-sizing: border-box;margin-bottom: 0.5em;}#sk-container-id-1 div.sk-estimator:hover {background-color: #d4ebff;}#sk-container-id-1 div.sk-parallel-item::after {content: \"\";width: 100%;border-bottom: 1px solid gray;flex-grow: 1;}#sk-container-id-1 div.sk-label:hover label.sk-toggleable__label {background-color: #d4ebff;}#sk-container-id-1 div.sk-serial::before {content: \"\";position: absolute;border-left: 1px solid gray;box-sizing: border-box;top: 0;bottom: 0;left: 50%;z-index: 0;}#sk-container-id-1 div.sk-serial {display: flex;flex-direction: column;align-items: center;background-color: white;padding-right: 0.2em;padding-left: 0.2em;position: relative;}#sk-container-id-1 div.sk-item {position: relative;z-index: 1;}#sk-container-id-1 div.sk-parallel {display: flex;align-items: stretch;justify-content: center;background-color: white;position: relative;}#sk-container-id-1 div.sk-item::before, #sk-container-id-1 div.sk-parallel-item::before {content: \"\";position: absolute;border-left: 1px solid gray;box-sizing: border-box;top: 0;bottom: 0;left: 50%;z-index: -1;}#sk-container-id-1 div.sk-parallel-item {display: flex;flex-direction: column;z-index: 1;position: relative;background-color: white;}#sk-container-id-1 div.sk-parallel-item:first-child::after {align-self: flex-end;width: 50%;}#sk-container-id-1 div.sk-parallel-item:last-child::after {align-self: flex-start;width: 50%;}#sk-container-id-1 div.sk-parallel-item:only-child::after {width: 0;}#sk-container-id-1 div.sk-dashed-wrapped {border: 1px dashed gray;margin: 0 0.4em 0.5em 0.4em;box-sizing: border-box;padding-bottom: 0.4em;background-color: white;}#sk-container-id-1 div.sk-label label {font-family: monospace;font-weight: bold;display: inline-block;line-height: 1.2em;}#sk-container-id-1 div.sk-label-container {text-align: center;}#sk-container-id-1 div.sk-container {/* jupyter's `normalize.less` sets `[hidden] { display: none; }` but bootstrap.min.css set `[hidden] { display: none !important; }` so we also need the `!important` here to be able to override the default hidden behavior on the sphinx rendered scikit-learn.org. See: https://github.com/scikit-learn/scikit-learn/issues/21755 */display: inline-block !important;position: relative;}#sk-container-id-1 div.sk-text-repr-fallback {display: none;}</style><div id=\"sk-container-id-1\" class=\"sk-top-container\"><div class=\"sk-text-repr-fallback\"><pre>PCA()</pre><b>In a Jupyter environment, please rerun this cell to show the HTML representation or trust the notebook. <br />On GitHub, the HTML representation is unable to render, please try loading this page with nbviewer.org.</b></div><div class=\"sk-container\" hidden><div class=\"sk-item\"><div class=\"sk-estimator sk-toggleable\"><input class=\"sk-toggleable__control sk-hidden--visually\" id=\"sk-estimator-id-1\" type=\"checkbox\" checked><label for=\"sk-estimator-id-1\" class=\"sk-toggleable__label sk-toggleable__label-arrow\">PCA</label><div class=\"sk-toggleable__content\"><pre>PCA()</pre></div></div></div></div></div>"
      ],
      "text/plain": [
       "PCA()"
      ]
     },
     "execution_count": 80,
     "metadata": {},
     "output_type": "execute_result"
    }
   ],
   "source": [
    "pca = PCA()\n",
    "pca.fit(X_scaled)"
   ]
  },
  {
   "cell_type": "markdown",
   "metadata": {},
   "source": [
    "Create a bar chart to visualize the variance explained by each principal component"
   ]
  },
  {
   "cell_type": "code",
   "execution_count": 90,
   "metadata": {},
   "outputs": [
    {
     "data": {
      "image/png": "[encoded data removed]",
      "text/plain": [
       "<Figure size 1152x720 with 1 Axes>"
      ]
     },
     "metadata": {
      "needs_background": "light"
     },
     "output_type": "display_data"
    }
   ],
   "source": [
    "explained_variance_ratio = pca.explained_variance_ratio_\n",
    "\n",
    "cumulative_variance = np.cumsum(explained_variance_ratio)\n",
    "\n",
    "# Create the scree plot\n",
    "plt.figure(figsize=(16, 10))\n",
    "plt.plot(range(1, len(explained_variance_ratio) + 1), cumulative_variance, marker='o', linestyle='-', color='b')\n",
    "plt.xlabel('Number of Principal Components')\n",
    "plt.ylabel('Cumulative Explained Variance Ratio')\n",
    "plt.title('Scree Plot - Cumulative Explained Variance Ratio')\n",
    "plt.grid()\n",
    "plt.show()"
   ]
  },
  {
   "cell_type": "markdown",
   "metadata": {},
   "source": [
    "Find the number of principal components that reach or exceed the threshold"
   ]
  },
  {
   "cell_type": "code",
   "execution_count": 91,
   "metadata": {},
   "outputs": [
    {
     "name": "stdout",
     "output_type": "stream",
     "text": [
      "Number of dimensions to keep for 0.95 threshold: 130\n"
     ]
    }
   ],
   "source": [
    "desired_variance_threshold = 0.95\n",
    "\n",
    "num_components_threshold = np.argmax(cumulative_variance >= desired_variance_threshold) + 1\n",
    "\n",
    "print(f\"Number of dimensions to keep for {desired_variance_threshold:.2f} threshold: {num_components_threshold}\")"
   ]
  },
  {
   "cell_type": "markdown",
   "metadata": {},
   "source": [
    "Perform dimensionality reduction"
   ]
  },
  {
   "cell_type": "code",
   "execution_count": 95,
   "metadata": {},
   "outputs": [],
   "source": [
    "pca.n_components = num_components_threshold\n",
    "X_reduced = pca.fit_transform(X_scaled)"
   ]
  },
  {
   "cell_type": "code",
   "execution_count": 97,
   "metadata": {},
   "outputs": [
    {
     "data": {
      "text/html": [
       "<div>\n",
       "<style scoped>\n",
       "    .dataframe tbody tr th:only-of-type {\n",
       "        vertical-align: middle;\n",
       "    }\n",
       "\n",
       "    .dataframe tbody tr th {\n",
       "        vertical-align: top;\n",
       "    }\n",
       "\n",
       "    .dataframe thead th {\n",
       "        text-align: right;\n",
       "    }\n",
       "</style>\n",
       "<table border=\"1\" class=\"dataframe\">\n",
       "  <thead>\n",
       "    <tr style=\"text-align: right;\">\n",
       "      <th></th>\n",
       "      <th>0</th>\n",
       "      <th>1</th>\n",
       "      <th>2</th>\n",
       "      <th>3</th>\n",
       "      <th>4</th>\n",
       "      <th>5</th>\n",
       "      <th>6</th>\n",
       "      <th>7</th>\n",
       "      <th>8</th>\n",
       "      <th>9</th>\n",
       "      <th>...</th>\n",
       "      <th>120</th>\n",
       "      <th>121</th>\n",
       "      <th>122</th>\n",
       "      <th>123</th>\n",
       "      <th>124</th>\n",
       "      <th>125</th>\n",
       "      <th>126</th>\n",
       "      <th>127</th>\n",
       "      <th>128</th>\n",
       "      <th>129</th>\n",
       "    </tr>\n",
       "  </thead>\n",
       "  <tbody>\n",
       "    <tr>\n",
       "      <th>0</th>\n",
       "      <td>4.224472</td>\n",
       "      <td>-1.612246</td>\n",
       "      <td>-0.179908</td>\n",
       "      <td>0.481778</td>\n",
       "      <td>1.391197</td>\n",
       "      <td>-0.668152</td>\n",
       "      <td>0.831074</td>\n",
       "      <td>0.055466</td>\n",
       "      <td>1.020493</td>\n",
       "      <td>3.781683</td>\n",
       "      <td>...</td>\n",
       "      <td>-0.764837</td>\n",
       "      <td>0.420480</td>\n",
       "      <td>-0.302998</td>\n",
       "      <td>0.792880</td>\n",
       "      <td>-0.522925</td>\n",
       "      <td>0.143895</td>\n",
       "      <td>0.327658</td>\n",
       "      <td>-0.247561</td>\n",
       "      <td>-0.167391</td>\n",
       "      <td>-0.254840</td>\n",
       "    </tr>\n",
       "    <tr>\n",
       "      <th>1</th>\n",
       "      <td>4.550649</td>\n",
       "      <td>1.887874</td>\n",
       "      <td>-1.518575</td>\n",
       "      <td>-0.455502</td>\n",
       "      <td>1.470781</td>\n",
       "      <td>-2.072819</td>\n",
       "      <td>1.702615</td>\n",
       "      <td>-2.218386</td>\n",
       "      <td>-1.625440</td>\n",
       "      <td>2.173176</td>\n",
       "      <td>...</td>\n",
       "      <td>0.228931</td>\n",
       "      <td>-0.628118</td>\n",
       "      <td>-0.370623</td>\n",
       "      <td>-0.432580</td>\n",
       "      <td>-0.864745</td>\n",
       "      <td>-0.259481</td>\n",
       "      <td>-0.757935</td>\n",
       "      <td>0.666784</td>\n",
       "      <td>0.085784</td>\n",
       "      <td>-0.842143</td>\n",
       "    </tr>\n",
       "    <tr>\n",
       "      <th>2</th>\n",
       "      <td>-9.561955</td>\n",
       "      <td>-5.914814</td>\n",
       "      <td>0.535853</td>\n",
       "      <td>4.451266</td>\n",
       "      <td>1.359754</td>\n",
       "      <td>1.537322</td>\n",
       "      <td>1.732234</td>\n",
       "      <td>-0.541619</td>\n",
       "      <td>0.488564</td>\n",
       "      <td>-2.228822</td>\n",
       "      <td>...</td>\n",
       "      <td>-0.019541</td>\n",
       "      <td>0.956864</td>\n",
       "      <td>-0.174020</td>\n",
       "      <td>0.523669</td>\n",
       "      <td>-0.511340</td>\n",
       "      <td>-0.809044</td>\n",
       "      <td>0.616126</td>\n",
       "      <td>0.067312</td>\n",
       "      <td>0.481043</td>\n",
       "      <td>0.096741</td>\n",
       "    </tr>\n",
       "    <tr>\n",
       "      <th>3</th>\n",
       "      <td>-9.575586</td>\n",
       "      <td>4.558576</td>\n",
       "      <td>-1.149819</td>\n",
       "      <td>1.540013</td>\n",
       "      <td>-0.049724</td>\n",
       "      <td>1.253393</td>\n",
       "      <td>0.538404</td>\n",
       "      <td>0.189765</td>\n",
       "      <td>-4.161378</td>\n",
       "      <td>2.083004</td>\n",
       "      <td>...</td>\n",
       "      <td>0.757827</td>\n",
       "      <td>0.044482</td>\n",
       "      <td>0.139218</td>\n",
       "      <td>0.315339</td>\n",
       "      <td>0.007751</td>\n",
       "      <td>-0.406340</td>\n",
       "      <td>-0.209135</td>\n",
       "      <td>0.794594</td>\n",
       "      <td>0.107877</td>\n",
       "      <td>0.111476</td>\n",
       "    </tr>\n",
       "    <tr>\n",
       "      <th>4</th>\n",
       "      <td>4.819045</td>\n",
       "      <td>3.085731</td>\n",
       "      <td>-1.570929</td>\n",
       "      <td>-2.641237</td>\n",
       "      <td>-0.035344</td>\n",
       "      <td>0.164566</td>\n",
       "      <td>-1.509931</td>\n",
       "      <td>-0.807515</td>\n",
       "      <td>0.021186</td>\n",
       "      <td>1.961057</td>\n",
       "      <td>...</td>\n",
       "      <td>-0.613405</td>\n",
       "      <td>-0.024658</td>\n",
       "      <td>0.147570</td>\n",
       "      <td>-0.348664</td>\n",
       "      <td>-0.833020</td>\n",
       "      <td>1.371409</td>\n",
       "      <td>0.566757</td>\n",
       "      <td>0.288248</td>\n",
       "      <td>0.268666</td>\n",
       "      <td>0.186854</td>\n",
       "    </tr>\n",
       "    <tr>\n",
       "      <th>...</th>\n",
       "      <td>...</td>\n",
       "      <td>...</td>\n",
       "      <td>...</td>\n",
       "      <td>...</td>\n",
       "      <td>...</td>\n",
       "      <td>...</td>\n",
       "      <td>...</td>\n",
       "      <td>...</td>\n",
       "      <td>...</td>\n",
       "      <td>...</td>\n",
       "      <td>...</td>\n",
       "      <td>...</td>\n",
       "      <td>...</td>\n",
       "      <td>...</td>\n",
       "      <td>...</td>\n",
       "      <td>...</td>\n",
       "      <td>...</td>\n",
       "      <td>...</td>\n",
       "      <td>...</td>\n",
       "      <td>...</td>\n",
       "      <td>...</td>\n",
       "    </tr>\n",
       "    <tr>\n",
       "      <th>903</th>\n",
       "      <td>-9.062977</td>\n",
       "      <td>-3.617466</td>\n",
       "      <td>0.629115</td>\n",
       "      <td>1.183394</td>\n",
       "      <td>1.880250</td>\n",
       "      <td>4.431248</td>\n",
       "      <td>-1.843753</td>\n",
       "      <td>2.220333</td>\n",
       "      <td>9.836667</td>\n",
       "      <td>-1.516821</td>\n",
       "      <td>...</td>\n",
       "      <td>-0.265345</td>\n",
       "      <td>1.382604</td>\n",
       "      <td>-0.407041</td>\n",
       "      <td>0.714464</td>\n",
       "      <td>-0.405802</td>\n",
       "      <td>0.760255</td>\n",
       "      <td>-0.012022</td>\n",
       "      <td>-0.508491</td>\n",
       "      <td>-0.561394</td>\n",
       "      <td>0.293026</td>\n",
       "    </tr>\n",
       "    <tr>\n",
       "      <th>904</th>\n",
       "      <td>18.177379</td>\n",
       "      <td>1.533719</td>\n",
       "      <td>-0.587730</td>\n",
       "      <td>-0.739249</td>\n",
       "      <td>-1.218760</td>\n",
       "      <td>-2.086146</td>\n",
       "      <td>3.440668</td>\n",
       "      <td>0.482106</td>\n",
       "      <td>-0.546511</td>\n",
       "      <td>0.610010</td>\n",
       "      <td>...</td>\n",
       "      <td>0.319251</td>\n",
       "      <td>-0.601796</td>\n",
       "      <td>0.252732</td>\n",
       "      <td>-0.231370</td>\n",
       "      <td>-0.073623</td>\n",
       "      <td>0.263535</td>\n",
       "      <td>-0.654483</td>\n",
       "      <td>-0.100458</td>\n",
       "      <td>0.402824</td>\n",
       "      <td>-0.538529</td>\n",
       "    </tr>\n",
       "    <tr>\n",
       "      <th>905</th>\n",
       "      <td>5.528659</td>\n",
       "      <td>-0.076175</td>\n",
       "      <td>-1.978489</td>\n",
       "      <td>2.632272</td>\n",
       "      <td>-5.360929</td>\n",
       "      <td>5.583314</td>\n",
       "      <td>0.819068</td>\n",
       "      <td>0.927394</td>\n",
       "      <td>2.275709</td>\n",
       "      <td>-1.570883</td>\n",
       "      <td>...</td>\n",
       "      <td>0.091681</td>\n",
       "      <td>0.618166</td>\n",
       "      <td>-0.619809</td>\n",
       "      <td>0.497738</td>\n",
       "      <td>0.800642</td>\n",
       "      <td>-0.112589</td>\n",
       "      <td>0.441627</td>\n",
       "      <td>0.190241</td>\n",
       "      <td>0.178950</td>\n",
       "      <td>0.210178</td>\n",
       "    </tr>\n",
       "    <tr>\n",
       "      <th>906</th>\n",
       "      <td>6.677285</td>\n",
       "      <td>-0.501096</td>\n",
       "      <td>-2.952715</td>\n",
       "      <td>1.327981</td>\n",
       "      <td>0.805336</td>\n",
       "      <td>1.525214</td>\n",
       "      <td>1.966225</td>\n",
       "      <td>-1.072366</td>\n",
       "      <td>0.382543</td>\n",
       "      <td>1.846156</td>\n",
       "      <td>...</td>\n",
       "      <td>-0.342499</td>\n",
       "      <td>0.363679</td>\n",
       "      <td>0.291927</td>\n",
       "      <td>-0.186431</td>\n",
       "      <td>-0.081649</td>\n",
       "      <td>-0.107565</td>\n",
       "      <td>0.279560</td>\n",
       "      <td>-0.136264</td>\n",
       "      <td>-0.405691</td>\n",
       "      <td>0.741676</td>\n",
       "    </tr>\n",
       "    <tr>\n",
       "      <th>907</th>\n",
       "      <td>0.569959</td>\n",
       "      <td>2.848613</td>\n",
       "      <td>-2.791021</td>\n",
       "      <td>0.694045</td>\n",
       "      <td>1.407284</td>\n",
       "      <td>-1.043264</td>\n",
       "      <td>-1.628316</td>\n",
       "      <td>0.137118</td>\n",
       "      <td>0.534297</td>\n",
       "      <td>-1.623552</td>\n",
       "      <td>...</td>\n",
       "      <td>1.012084</td>\n",
       "      <td>0.392438</td>\n",
       "      <td>-0.671301</td>\n",
       "      <td>0.152339</td>\n",
       "      <td>0.286933</td>\n",
       "      <td>0.290741</td>\n",
       "      <td>-0.204351</td>\n",
       "      <td>0.598976</td>\n",
       "      <td>0.930729</td>\n",
       "      <td>0.770194</td>\n",
       "    </tr>\n",
       "  </tbody>\n",
       "</table>\n",
       "<p>908 rows × 130 columns</p>\n",
       "</div>"
      ],
      "text/plain": [
       "           0         1         2         3         4         5         6    \\\n",
       "0     4.224472 -1.612246 -0.179908  0.481778  1.391197 -0.668152  0.831074   \n",
       "1     4.550649  1.887874 -1.518575 -0.455502  1.470781 -2.072819  1.702615   \n",
       "2    -9.561955 -5.914814  0.535853  4.451266  1.359754  1.537322  1.732234   \n",
       "3    -9.575586  4.558576 -1.149819  1.540013 -0.049724  1.253393  0.538404   \n",
       "4     4.819045  3.085731 -1.570929 -2.641237 -0.035344  0.164566 -1.509931   \n",
       "..         ...       ...       ...       ...       ...       ...       ...   \n",
       "903  -9.062977 -3.617466  0.629115  1.183394  1.880250  4.431248 -1.843753   \n",
       "904  18.177379  1.533719 -0.587730 -0.739249 -1.218760 -2.086146  3.440668   \n",
       "905   5.528659 -0.076175 -1.978489  2.632272 -5.360929  5.583314  0.819068   \n",
       "906   6.677285 -0.501096 -2.952715  1.327981  0.805336  1.525214  1.966225   \n",
       "907   0.569959  2.848613 -2.791021  0.694045  1.407284 -1.043264 -1.628316   \n",
       "\n",
       "          7         8         9    ...       120       121       122  \\\n",
       "0    0.055466  1.020493  3.781683  ... -0.764837  0.420480 -0.302998   \n",
       "1   -2.218386 -1.625440  2.173176  ...  0.228931 -0.628118 -0.370623   \n",
       "2   -0.541619  0.488564 -2.228822  ... -0.019541  0.956864 -0.174020   \n",
       "3    0.189765 -4.161378  2.083004  ...  0.757827  0.044482  0.139218   \n",
       "4   -0.807515  0.021186  1.961057  ... -0.613405 -0.024658  0.147570   \n",
       "..        ...       ...       ...  ...       ...       ...       ...   \n",
       "903  2.220333  9.836667 -1.516821  ... -0.265345  1.382604 -0.407041   \n",
       "904  0.482106 -0.546511  0.610010  ...  0.319251 -0.601796  0.252732   \n",
       "905  0.927394  2.275709 -1.570883  ...  0.091681  0.618166 -0.619809   \n",
       "906 -1.072366  0.382543  1.846156  ... -0.342499  0.363679  0.291927   \n",
       "907  0.137118  0.534297 -1.623552  ...  1.012084  0.392438 -0.671301   \n",
       "\n",
       "          123       124       125       126       127       128       129  \n",
       "0    0.792880 -0.522925  0.143895  0.327658 -0.247561 -0.167391 -0.254840  \n",
       "1   -0.432580 -0.864745 -0.259481 -0.757935  0.666784  0.085784 -0.842143  \n",
       "2    0.523669 -0.511340 -0.809044  0.616126  0.067312  0.481043  0.096741  \n",
       "3    0.315339  0.007751 -0.406340 -0.209135  0.794594  0.107877  0.111476  \n",
       "4   -0.348664 -0.833020  1.371409  0.566757  0.288248  0.268666  0.186854  \n",
       "..        ...       ...       ...       ...       ...       ...       ...  \n",
       "903  0.714464 -0.405802  0.760255 -0.012022 -0.508491 -0.561394  0.293026  \n",
       "904 -0.231370 -0.073623  0.263535 -0.654483 -0.100458  0.402824 -0.538529  \n",
       "905  0.497738  0.800642 -0.112589  0.441627  0.190241  0.178950  0.210178  \n",
       "906 -0.186431 -0.081649 -0.107565  0.279560 -0.136264 -0.405691  0.741676  \n",
       "907  0.152339  0.286933  0.290741 -0.204351  0.598976  0.930729  0.770194  \n",
       "\n",
       "[908 rows x 130 columns]"
      ]
     },
     "execution_count": 97,
     "metadata": {},
     "output_type": "execute_result"
    }
   ],
   "source": [
    "X_reduced_df = pd.DataFrame(X_reduced)\n",
    "\n",
    "X_reduced_df"
   ]
  },
  {
   "cell_type": "markdown",
   "metadata": {},
   "source": [
    "# Clustering and Validation"
   ]
  },
  {
   "cell_type": "code",
   "execution_count": null,
   "metadata": {},
   "outputs": [],
   "source": []
  }
 ],
 "metadata": {
  "kernelspec": {
   "display_name": "Python 3",
   "language": "python",
   "name": "python3"
  },
  "language_info": {
   "codemirror_mode": {
    "name": "ipython",
    "version": 3
   },
   "file_extension": ".py",
   "mimetype": "text/x-python",
   "name": "python",
   "nbconvert_exporter": "python",
   "pygments_lexer": "ipython3",
   "version": "3.9.5"
  },
  "orig_nbformat": 4
 },
 "nbformat": 4,
 "nbformat_minor": 2
}
